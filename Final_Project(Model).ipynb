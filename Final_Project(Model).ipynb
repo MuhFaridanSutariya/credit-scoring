{
  "cells": [
    {
      "cell_type": "code",
      "execution_count": 1,
      "metadata": {
        "id": "8a185aea"
      },
      "outputs": [],
      "source": [
        "import pandas as pd\n",
        "import numpy as np\n",
        "import matplotlib.pyplot as plt\n",
        "import seaborn as sns\n",
        "\n",
        "pd.set_option('display.max_columns', None)\n",
        "pd.set_option('display.max_rows', None)"
      ],
      "id": "8a185aea"
    },
    {
      "cell_type": "code",
      "execution_count": 2,
      "metadata": {
        "id": "0dbf6671"
      },
      "outputs": [],
      "source": [
        "df1 = pd.read_csv('/content/application_train.csv')\n",
        "df2 = pd.read_csv('/content/previous_application.csv')"
      ],
      "id": "0dbf6671"
    },
    {
      "cell_type": "code",
      "execution_count": 3,
      "metadata": {
        "id": "3xbPQO7M9HHK"
      },
      "outputs": [],
      "source": [
        "cols_to_drop = [\n",
        "    # Mssing Value > 30%\n",
        "    'COMMONAREA_AVG',\n",
        "    'COMMONAREA_MODE',\n",
        "    'COMMONAREA_MEDI',\n",
        "    'NONLIVINGAPARTMENTS_AVG',\n",
        "    'NONLIVINGAPARTMENTS_MEDI',\n",
        "    'NONLIVINGAPARTMENTS_MODE',\n",
        "    'FONDKAPREMONT_MODE',\n",
        "    'LIVINGAPARTMENTS_MODE',\n",
        "    'LIVINGAPARTMENTS_MEDI',\n",
        "    'LIVINGAPARTMENTS_AVG',\n",
        "    'FLOORSMIN_MODE',\n",
        "    'FLOORSMIN_MEDI',\n",
        "    'FLOORSMIN_AVG',\n",
        "    'YEARS_BUILD_AVG',\n",
        "    'YEARS_BUILD_MEDI',\n",
        "    'YEARS_BUILD_MODE',\n",
        "    'OWN_CAR_AGE',\n",
        "    'LANDAREA_MEDI',\n",
        "    'LANDAREA_MODE',\n",
        "    'LANDAREA_AVG',\n",
        "    'BASEMENTAREA_AVG',\n",
        "    'BASEMENTAREA_MEDI',\n",
        "    'BASEMENTAREA_MODE',\n",
        "    'EXT_SOURCE_1',\n",
        "    'NONLIVINGAREA_MODE',\n",
        "    'NONLIVINGAREA_MEDI',\n",
        "    'NONLIVINGAREA_AVG',\n",
        "    'ELEVATORS_MODE',\n",
        "    'ELEVATORS_AVG',\n",
        "    'ELEVATORS_MEDI',\n",
        "    'WALLSMATERIAL_MODE',\n",
        "    'APARTMENTS_MEDI',\n",
        "    'APARTMENTS_AVG',\n",
        "    'APARTMENTS_MODE',\n",
        "    'ENTRANCES_MEDI',\n",
        "    'ENTRANCES_AVG',\n",
        "    'ENTRANCES_MODE',\n",
        "    'LIVINGAREA_AVG',\n",
        "    'LIVINGAREA_MEDI',\n",
        "    'LIVINGAREA_MODE',\n",
        "    'HOUSETYPE_MODE',\n",
        "    'FLOORSMAX_AVG',\n",
        "    'FLOORSMAX_MEDI',\n",
        "    'FLOORSMAX_MODE',\n",
        "    'YEARS_BEGINEXPLUATATION_MODE',\n",
        "    'YEARS_BEGINEXPLUATATION_MEDI',\n",
        "    'YEARS_BEGINEXPLUATATION_AVG',\n",
        "    'TOTALAREA_MODE',\n",
        "    'EMERGENCYSTATE_MODE',\n",
        "    'FLAG_DOCUMENT_2',\n",
        "    'FLAG_DOCUMENT_3',\n",
        "    'FLAG_DOCUMENT_4',\n",
        "    'FLAG_DOCUMENT_5',\n",
        "    'FLAG_DOCUMENT_6',\n",
        "    'FLAG_DOCUMENT_7',\n",
        "    'FLAG_DOCUMENT_8',\n",
        "    'FLAG_DOCUMENT_9',\n",
        "    'FLAG_DOCUMENT_10',\n",
        "    'FLAG_DOCUMENT_11',\n",
        "    'FLAG_DOCUMENT_12',\n",
        "    'FLAG_DOCUMENT_13',\n",
        "    'FLAG_DOCUMENT_14',\n",
        "    'FLAG_DOCUMENT_15',\n",
        "    'FLAG_DOCUMENT_16',\n",
        "    'FLAG_DOCUMENT_17',\n",
        "    'FLAG_DOCUMENT_18',\n",
        "    'FLAG_DOCUMENT_19',\n",
        "    'FLAG_DOCUMENT_20',\n",
        "    'FLAG_DOCUMENT_21',\n",
        "    'DAYS_LAST_PHONE_CHANGE',\n",
        "    'EXT_SOURCE_2',\n",
        "    'EXT_SOURCE_3',\n",
        "    'LIVE_CITY_NOT_WORK_CITY',\n",
        "    'REG_CITY_NOT_WORK_CITY',\n",
        "    'REG_REGION_NOT_LIVE_REGION',    \n",
        "    'REG_REGION_NOT_WORK_REGION',   \n",
        "    'LIVE_REGION_NOT_WORK_REGION',   \n",
        "    'REG_CITY_NOT_LIVE_CITY',\n",
        "    'DAYS_BIRTH',\n",
        "    'DAYS_ID_PUBLISH',\n",
        "    'DAYS_REGISTRATION',\n",
        "    'DAYS_EMPLOYED',\n",
        "    'FLAG_CONT_MOBILE',\n",
        "    'FLAG_MOBIL'\n",
        "]\n",
        "df1.drop(columns=cols_to_drop, axis=1,inplace=True)"
      ],
      "id": "3xbPQO7M9HHK"
    },
    {
      "cell_type": "code",
      "execution_count": 4,
      "metadata": {
        "id": "xThUUFh_Kic6"
      },
      "outputs": [],
      "source": [
        "cols_to_drop = [\n",
        "    'RATE_INTEREST_PRIMARY',\n",
        "    'RATE_INTEREST_PRIVILEGED',\n",
        "    'AMT_DOWN_PAYMENT',\n",
        "    'NAME_TYPE_SUITE',\n",
        "    'RATE_DOWN_PAYMENT',\n",
        "    'DAYS_FIRST_DRAWING',\n",
        "    'DAYS_FIRST_DUE',\n",
        "    'DAYS_LAST_DUE_1ST_VERSION',\n",
        "    'DAYS_LAST_DUE',\n",
        "    'DAYS_TERMINATION',\n",
        "    'NFLAG_INSURED_ON_APPROVAL',\n",
        "    'AMT_GOODS_PRICE',\n",
        "    'AMT_ANNUITY',\n",
        "    'NAME_CONTRACT_TYPE',\n",
        "    'WEEKDAY_APPR_PROCESS_START',\n",
        "    'HOUR_APPR_PROCESS_START',\n",
        "    'FLAG_LAST_APPL_PER_CONTRACT',\n",
        "    'NFLAG_LAST_APPL_IN_DAY'\n",
        "]\n",
        "df2.drop(columns=cols_to_drop, inplace=True)"
      ],
      "id": "xThUUFh_Kic6"
    },
    {
      "cell_type": "code",
      "source": [
        "corr_matrix2 = df2.corr().abs()\n",
        "upper = corr_matrix2.where(np.triu(np.ones(corr_matrix2.shape), k=1).astype(np.bool))\n",
        "to_drop_hicorr = [column for column in upper.columns if any(upper[column] > 0.7)]\n",
        "df2.drop(columns=to_drop_hicorr, inplace=True)"
      ],
      "metadata": {
        "colab": {
          "base_uri": "https://localhost:8080/"
        },
        "id": "K4_8Y87pXcSb",
        "outputId": "c1db6b54-0e65-4aa2-9b0f-0d5b09c8d4ab"
      },
      "id": "K4_8Y87pXcSb",
      "execution_count": 5,
      "outputs": [
        {
          "output_type": "stream",
          "name": "stderr",
          "text": [
            "/usr/local/lib/python3.7/dist-packages/ipykernel_launcher.py:2: DeprecationWarning: `np.bool` is a deprecated alias for the builtin `bool`. To silence this warning, use `bool` by itself. Doing this will not modify any behavior and is safe. If you specifically wanted the numpy scalar type, use `np.bool_` here.\n",
            "Deprecated in NumPy 1.20; for more details and guidance: https://numpy.org/devdocs/release/1.20.0-notes.html#deprecations\n",
            "  \n"
          ]
        }
      ]
    },
    {
      "cell_type": "code",
      "source": [
        "corr_matrix1 = df1.corr().abs()\n",
        "upper = corr_matrix1.where(np.triu(np.ones(corr_matrix1.shape), k=1).astype(np.bool))\n",
        "to_drop_hicorr = [column for column in upper.columns if any(upper[column] > 0.7)]\n",
        "df1.drop(columns=to_drop_hicorr, inplace=True)"
      ],
      "metadata": {
        "colab": {
          "base_uri": "https://localhost:8080/"
        },
        "id": "GMtBMRZDYRrz",
        "outputId": "7324f31a-c392-4156-bf8c-6321ebcb2244"
      },
      "id": "GMtBMRZDYRrz",
      "execution_count": 6,
      "outputs": [
        {
          "output_type": "stream",
          "name": "stderr",
          "text": [
            "/usr/local/lib/python3.7/dist-packages/ipykernel_launcher.py:2: DeprecationWarning: `np.bool` is a deprecated alias for the builtin `bool`. To silence this warning, use `bool` by itself. Doing this will not modify any behavior and is safe. If you specifically wanted the numpy scalar type, use `np.bool_` here.\n",
            "Deprecated in NumPy 1.20; for more details and guidance: https://numpy.org/devdocs/release/1.20.0-notes.html#deprecations\n",
            "  \n"
          ]
        }
      ]
    },
    {
      "cell_type": "code",
      "source": [
        "df1['Income_Range'] = pd.qcut(df1['AMT_INCOME_TOTAL'], 10)\n",
        "df1['Credit_Range'] = pd.qcut(df1['AMT_CREDIT'], 10)"
      ],
      "metadata": {
        "id": "gNlcqu2iaITP"
      },
      "id": "gNlcqu2iaITP",
      "execution_count": 7,
      "outputs": []
    },
    {
      "cell_type": "code",
      "source": [
        "telat = df1[df1['TARGET'] == 1]\n",
        "top_income_credit_range = pd.crosstab(index=telat[\"Credit_Range\"], \n",
        "                          columns=telat[\"Income_Range\"]).head()\n",
        "top_income_credit_range"
      ],
      "metadata": {
        "id": "qGCwx7PeqCaY",
        "colab": {
          "base_uri": "https://localhost:8080/",
          "height": 385
        },
        "outputId": "e4c0a1d2-53ec-4d2d-88fa-59df6412364e"
      },
      "id": "qGCwx7PeqCaY",
      "execution_count": 8,
      "outputs": [
        {
          "output_type": "execute_result",
          "data": {
            "text/plain": [
              "Income_Range           (25649.999, 81000.0]  (81000.0, 99000.0]  \\\n",
              "Credit_Range                                                      \n",
              "(44999.999, 180000.0]                   604                 344   \n",
              "(180000.0, 254700.0]                    465                 380   \n",
              "(254700.0, 306306.0]                    344                 325   \n",
              "(306306.0, 432000.0]                    437                 368   \n",
              "(432000.0, 513531.0]                    246                 278   \n",
              "\n",
              "Income_Range           (99000.0, 112500.0]  (112500.0, 135000.0]  \\\n",
              "Credit_Range                                                       \n",
              "(44999.999, 180000.0]                  386                   369   \n",
              "(180000.0, 254700.0]                   401                   409   \n",
              "(254700.0, 306306.0]                   367                   430   \n",
              "(306306.0, 432000.0]                   498                   606   \n",
              "(432000.0, 513531.0]                   354                   528   \n",
              "\n",
              "Income_Range           (135000.0, 147150.0]  (147150.0, 162000.0]  \\\n",
              "Credit_Range                                                        \n",
              "(44999.999, 180000.0]                    30                   159   \n",
              "(180000.0, 254700.0]                     30                   229   \n",
              "(254700.0, 306306.0]                     33                   227   \n",
              "(306306.0, 432000.0]                     52                   325   \n",
              "(432000.0, 513531.0]                     47                   391   \n",
              "\n",
              "Income_Range           (162000.0, 180000.0]  (180000.0, 225000.0]  \\\n",
              "Credit_Range                                                        \n",
              "(44999.999, 180000.0]                   128                   142   \n",
              "(180000.0, 254700.0]                    205                   218   \n",
              "(254700.0, 306306.0]                    174                   220   \n",
              "(306306.0, 432000.0]                    256                   323   \n",
              "(432000.0, 513531.0]                    333                   450   \n",
              "\n",
              "Income_Range           (225000.0, 270000.0]  (270000.0, 117000000.0]  \n",
              "Credit_Range                                                          \n",
              "(44999.999, 180000.0]                    34                       36  \n",
              "(180000.0, 254700.0]                     66                       64  \n",
              "(254700.0, 306306.0]                     71                       57  \n",
              "(306306.0, 432000.0]                    114                      102  \n",
              "(432000.0, 513531.0]                    183                      146  "
            ],
            "text/html": [
              "\n",
              "  <div id=\"df-42e87941-7141-4eda-beee-baa18f601646\">\n",
              "    <div class=\"colab-df-container\">\n",
              "      <div>\n",
              "<style scoped>\n",
              "    .dataframe tbody tr th:only-of-type {\n",
              "        vertical-align: middle;\n",
              "    }\n",
              "\n",
              "    .dataframe tbody tr th {\n",
              "        vertical-align: top;\n",
              "    }\n",
              "\n",
              "    .dataframe thead th {\n",
              "        text-align: right;\n",
              "    }\n",
              "</style>\n",
              "<table border=\"1\" class=\"dataframe\">\n",
              "  <thead>\n",
              "    <tr style=\"text-align: right;\">\n",
              "      <th>Income_Range</th>\n",
              "      <th>(25649.999, 81000.0]</th>\n",
              "      <th>(81000.0, 99000.0]</th>\n",
              "      <th>(99000.0, 112500.0]</th>\n",
              "      <th>(112500.0, 135000.0]</th>\n",
              "      <th>(135000.0, 147150.0]</th>\n",
              "      <th>(147150.0, 162000.0]</th>\n",
              "      <th>(162000.0, 180000.0]</th>\n",
              "      <th>(180000.0, 225000.0]</th>\n",
              "      <th>(225000.0, 270000.0]</th>\n",
              "      <th>(270000.0, 117000000.0]</th>\n",
              "    </tr>\n",
              "    <tr>\n",
              "      <th>Credit_Range</th>\n",
              "      <th></th>\n",
              "      <th></th>\n",
              "      <th></th>\n",
              "      <th></th>\n",
              "      <th></th>\n",
              "      <th></th>\n",
              "      <th></th>\n",
              "      <th></th>\n",
              "      <th></th>\n",
              "      <th></th>\n",
              "    </tr>\n",
              "  </thead>\n",
              "  <tbody>\n",
              "    <tr>\n",
              "      <th>(44999.999, 180000.0]</th>\n",
              "      <td>604</td>\n",
              "      <td>344</td>\n",
              "      <td>386</td>\n",
              "      <td>369</td>\n",
              "      <td>30</td>\n",
              "      <td>159</td>\n",
              "      <td>128</td>\n",
              "      <td>142</td>\n",
              "      <td>34</td>\n",
              "      <td>36</td>\n",
              "    </tr>\n",
              "    <tr>\n",
              "      <th>(180000.0, 254700.0]</th>\n",
              "      <td>465</td>\n",
              "      <td>380</td>\n",
              "      <td>401</td>\n",
              "      <td>409</td>\n",
              "      <td>30</td>\n",
              "      <td>229</td>\n",
              "      <td>205</td>\n",
              "      <td>218</td>\n",
              "      <td>66</td>\n",
              "      <td>64</td>\n",
              "    </tr>\n",
              "    <tr>\n",
              "      <th>(254700.0, 306306.0]</th>\n",
              "      <td>344</td>\n",
              "      <td>325</td>\n",
              "      <td>367</td>\n",
              "      <td>430</td>\n",
              "      <td>33</td>\n",
              "      <td>227</td>\n",
              "      <td>174</td>\n",
              "      <td>220</td>\n",
              "      <td>71</td>\n",
              "      <td>57</td>\n",
              "    </tr>\n",
              "    <tr>\n",
              "      <th>(306306.0, 432000.0]</th>\n",
              "      <td>437</td>\n",
              "      <td>368</td>\n",
              "      <td>498</td>\n",
              "      <td>606</td>\n",
              "      <td>52</td>\n",
              "      <td>325</td>\n",
              "      <td>256</td>\n",
              "      <td>323</td>\n",
              "      <td>114</td>\n",
              "      <td>102</td>\n",
              "    </tr>\n",
              "    <tr>\n",
              "      <th>(432000.0, 513531.0]</th>\n",
              "      <td>246</td>\n",
              "      <td>278</td>\n",
              "      <td>354</td>\n",
              "      <td>528</td>\n",
              "      <td>47</td>\n",
              "      <td>391</td>\n",
              "      <td>333</td>\n",
              "      <td>450</td>\n",
              "      <td>183</td>\n",
              "      <td>146</td>\n",
              "    </tr>\n",
              "  </tbody>\n",
              "</table>\n",
              "</div>\n",
              "      <button class=\"colab-df-convert\" onclick=\"convertToInteractive('df-42e87941-7141-4eda-beee-baa18f601646')\"\n",
              "              title=\"Convert this dataframe to an interactive table.\"\n",
              "              style=\"display:none;\">\n",
              "        \n",
              "  <svg xmlns=\"http://www.w3.org/2000/svg\" height=\"24px\"viewBox=\"0 0 24 24\"\n",
              "       width=\"24px\">\n",
              "    <path d=\"M0 0h24v24H0V0z\" fill=\"none\"/>\n",
              "    <path d=\"M18.56 5.44l.94 2.06.94-2.06 2.06-.94-2.06-.94-.94-2.06-.94 2.06-2.06.94zm-11 1L8.5 8.5l.94-2.06 2.06-.94-2.06-.94L8.5 2.5l-.94 2.06-2.06.94zm10 10l.94 2.06.94-2.06 2.06-.94-2.06-.94-.94-2.06-.94 2.06-2.06.94z\"/><path d=\"M17.41 7.96l-1.37-1.37c-.4-.4-.92-.59-1.43-.59-.52 0-1.04.2-1.43.59L10.3 9.45l-7.72 7.72c-.78.78-.78 2.05 0 2.83L4 21.41c.39.39.9.59 1.41.59.51 0 1.02-.2 1.41-.59l7.78-7.78 2.81-2.81c.8-.78.8-2.07 0-2.86zM5.41 20L4 18.59l7.72-7.72 1.47 1.35L5.41 20z\"/>\n",
              "  </svg>\n",
              "      </button>\n",
              "      \n",
              "  <style>\n",
              "    .colab-df-container {\n",
              "      display:flex;\n",
              "      flex-wrap:wrap;\n",
              "      gap: 12px;\n",
              "    }\n",
              "\n",
              "    .colab-df-convert {\n",
              "      background-color: #E8F0FE;\n",
              "      border: none;\n",
              "      border-radius: 50%;\n",
              "      cursor: pointer;\n",
              "      display: none;\n",
              "      fill: #1967D2;\n",
              "      height: 32px;\n",
              "      padding: 0 0 0 0;\n",
              "      width: 32px;\n",
              "    }\n",
              "\n",
              "    .colab-df-convert:hover {\n",
              "      background-color: #E2EBFA;\n",
              "      box-shadow: 0px 1px 2px rgba(60, 64, 67, 0.3), 0px 1px 3px 1px rgba(60, 64, 67, 0.15);\n",
              "      fill: #174EA6;\n",
              "    }\n",
              "\n",
              "    [theme=dark] .colab-df-convert {\n",
              "      background-color: #3B4455;\n",
              "      fill: #D2E3FC;\n",
              "    }\n",
              "\n",
              "    [theme=dark] .colab-df-convert:hover {\n",
              "      background-color: #434B5C;\n",
              "      box-shadow: 0px 1px 3px 1px rgba(0, 0, 0, 0.15);\n",
              "      filter: drop-shadow(0px 1px 2px rgba(0, 0, 0, 0.3));\n",
              "      fill: #FFFFFF;\n",
              "    }\n",
              "  </style>\n",
              "\n",
              "      <script>\n",
              "        const buttonEl =\n",
              "          document.querySelector('#df-42e87941-7141-4eda-beee-baa18f601646 button.colab-df-convert');\n",
              "        buttonEl.style.display =\n",
              "          google.colab.kernel.accessAllowed ? 'block' : 'none';\n",
              "\n",
              "        async function convertToInteractive(key) {\n",
              "          const element = document.querySelector('#df-42e87941-7141-4eda-beee-baa18f601646');\n",
              "          const dataTable =\n",
              "            await google.colab.kernel.invokeFunction('convertToInteractive',\n",
              "                                                     [key], {});\n",
              "          if (!dataTable) return;\n",
              "\n",
              "          const docLinkHtml = 'Like what you see? Visit the ' +\n",
              "            '<a target=\"_blank\" href=https://colab.research.google.com/notebooks/data_table.ipynb>data table notebook</a>'\n",
              "            + ' to learn more about interactive tables.';\n",
              "          element.innerHTML = '';\n",
              "          dataTable['output_type'] = 'display_data';\n",
              "          await google.colab.output.renderOutput(dataTable, element);\n",
              "          const docLink = document.createElement('div');\n",
              "          docLink.innerHTML = docLinkHtml;\n",
              "          element.appendChild(docLink);\n",
              "        }\n",
              "      </script>\n",
              "    </div>\n",
              "  </div>\n",
              "  "
            ]
          },
          "metadata": {},
          "execution_count": 8
        }
      ]
    },
    {
      "cell_type": "code",
      "source": [
        "m1 = pd.merge(df1, df2, left_on='SK_ID_CURR', right_on='SK_ID_CURR', how='left')\n",
        "m1_mismatches = m1[m1['SK_ID_CURR'].isna()].dropna(axis=1)\n",
        "m1_matches = m1[~m1['SK_ID_CURR'].isna()]\n",
        "\n",
        "m2 = pd.merge(m1_mismatches, df2, left_on='SK_ID_CURR', right_on='SK_ID_CURR', how='left')\n",
        "df = pd.concat([m1_matches, m2]).drop(columns='SK_ID_CURR').reset_index(drop=True)"
      ],
      "metadata": {
        "id": "kwWfXVqg9UXF"
      },
      "id": "kwWfXVqg9UXF",
      "execution_count": 9,
      "outputs": []
    },
    {
      "cell_type": "code",
      "source": [
        "lancar = df[df['TARGET'] == 0]\n",
        "top_client_type = pd.crosstab(index=lancar[\"NAME_CONTRACT_STATUS\"], \n",
        "                          columns=lancar[\"NAME_CLIENT_TYPE\"])\n",
        "top_client_type"
      ],
      "metadata": {
        "id": "8EekiQfrcDM8",
        "colab": {
          "base_uri": "https://localhost:8080/",
          "height": 206
        },
        "outputId": "c6111e5b-fadf-4c0e-bef3-b5d21015e054"
      },
      "id": "8EekiQfrcDM8",
      "execution_count": 10,
      "outputs": [
        {
          "output_type": "execute_result",
          "data": {
            "text/plain": [
              "NAME_CLIENT_TYPE         New  Refreshed  Repeater  XNA\n",
              "NAME_CONTRACT_STATUS                                  \n",
              "Approved              221012      77490    519950  404\n",
              "Canceled                2496      14798    217629  718\n",
              "Refused                10987      11065    193658  242\n",
              "Unused offer            1700       3151     16015   26"
            ],
            "text/html": [
              "\n",
              "  <div id=\"df-774c93a2-a3da-472c-980e-01ebaa0749c4\">\n",
              "    <div class=\"colab-df-container\">\n",
              "      <div>\n",
              "<style scoped>\n",
              "    .dataframe tbody tr th:only-of-type {\n",
              "        vertical-align: middle;\n",
              "    }\n",
              "\n",
              "    .dataframe tbody tr th {\n",
              "        vertical-align: top;\n",
              "    }\n",
              "\n",
              "    .dataframe thead th {\n",
              "        text-align: right;\n",
              "    }\n",
              "</style>\n",
              "<table border=\"1\" class=\"dataframe\">\n",
              "  <thead>\n",
              "    <tr style=\"text-align: right;\">\n",
              "      <th>NAME_CLIENT_TYPE</th>\n",
              "      <th>New</th>\n",
              "      <th>Refreshed</th>\n",
              "      <th>Repeater</th>\n",
              "      <th>XNA</th>\n",
              "    </tr>\n",
              "    <tr>\n",
              "      <th>NAME_CONTRACT_STATUS</th>\n",
              "      <th></th>\n",
              "      <th></th>\n",
              "      <th></th>\n",
              "      <th></th>\n",
              "    </tr>\n",
              "  </thead>\n",
              "  <tbody>\n",
              "    <tr>\n",
              "      <th>Approved</th>\n",
              "      <td>221012</td>\n",
              "      <td>77490</td>\n",
              "      <td>519950</td>\n",
              "      <td>404</td>\n",
              "    </tr>\n",
              "    <tr>\n",
              "      <th>Canceled</th>\n",
              "      <td>2496</td>\n",
              "      <td>14798</td>\n",
              "      <td>217629</td>\n",
              "      <td>718</td>\n",
              "    </tr>\n",
              "    <tr>\n",
              "      <th>Refused</th>\n",
              "      <td>10987</td>\n",
              "      <td>11065</td>\n",
              "      <td>193658</td>\n",
              "      <td>242</td>\n",
              "    </tr>\n",
              "    <tr>\n",
              "      <th>Unused offer</th>\n",
              "      <td>1700</td>\n",
              "      <td>3151</td>\n",
              "      <td>16015</td>\n",
              "      <td>26</td>\n",
              "    </tr>\n",
              "  </tbody>\n",
              "</table>\n",
              "</div>\n",
              "      <button class=\"colab-df-convert\" onclick=\"convertToInteractive('df-774c93a2-a3da-472c-980e-01ebaa0749c4')\"\n",
              "              title=\"Convert this dataframe to an interactive table.\"\n",
              "              style=\"display:none;\">\n",
              "        \n",
              "  <svg xmlns=\"http://www.w3.org/2000/svg\" height=\"24px\"viewBox=\"0 0 24 24\"\n",
              "       width=\"24px\">\n",
              "    <path d=\"M0 0h24v24H0V0z\" fill=\"none\"/>\n",
              "    <path d=\"M18.56 5.44l.94 2.06.94-2.06 2.06-.94-2.06-.94-.94-2.06-.94 2.06-2.06.94zm-11 1L8.5 8.5l.94-2.06 2.06-.94-2.06-.94L8.5 2.5l-.94 2.06-2.06.94zm10 10l.94 2.06.94-2.06 2.06-.94-2.06-.94-.94-2.06-.94 2.06-2.06.94z\"/><path d=\"M17.41 7.96l-1.37-1.37c-.4-.4-.92-.59-1.43-.59-.52 0-1.04.2-1.43.59L10.3 9.45l-7.72 7.72c-.78.78-.78 2.05 0 2.83L4 21.41c.39.39.9.59 1.41.59.51 0 1.02-.2 1.41-.59l7.78-7.78 2.81-2.81c.8-.78.8-2.07 0-2.86zM5.41 20L4 18.59l7.72-7.72 1.47 1.35L5.41 20z\"/>\n",
              "  </svg>\n",
              "      </button>\n",
              "      \n",
              "  <style>\n",
              "    .colab-df-container {\n",
              "      display:flex;\n",
              "      flex-wrap:wrap;\n",
              "      gap: 12px;\n",
              "    }\n",
              "\n",
              "    .colab-df-convert {\n",
              "      background-color: #E8F0FE;\n",
              "      border: none;\n",
              "      border-radius: 50%;\n",
              "      cursor: pointer;\n",
              "      display: none;\n",
              "      fill: #1967D2;\n",
              "      height: 32px;\n",
              "      padding: 0 0 0 0;\n",
              "      width: 32px;\n",
              "    }\n",
              "\n",
              "    .colab-df-convert:hover {\n",
              "      background-color: #E2EBFA;\n",
              "      box-shadow: 0px 1px 2px rgba(60, 64, 67, 0.3), 0px 1px 3px 1px rgba(60, 64, 67, 0.15);\n",
              "      fill: #174EA6;\n",
              "    }\n",
              "\n",
              "    [theme=dark] .colab-df-convert {\n",
              "      background-color: #3B4455;\n",
              "      fill: #D2E3FC;\n",
              "    }\n",
              "\n",
              "    [theme=dark] .colab-df-convert:hover {\n",
              "      background-color: #434B5C;\n",
              "      box-shadow: 0px 1px 3px 1px rgba(0, 0, 0, 0.15);\n",
              "      filter: drop-shadow(0px 1px 2px rgba(0, 0, 0, 0.3));\n",
              "      fill: #FFFFFF;\n",
              "    }\n",
              "  </style>\n",
              "\n",
              "      <script>\n",
              "        const buttonEl =\n",
              "          document.querySelector('#df-774c93a2-a3da-472c-980e-01ebaa0749c4 button.colab-df-convert');\n",
              "        buttonEl.style.display =\n",
              "          google.colab.kernel.accessAllowed ? 'block' : 'none';\n",
              "\n",
              "        async function convertToInteractive(key) {\n",
              "          const element = document.querySelector('#df-774c93a2-a3da-472c-980e-01ebaa0749c4');\n",
              "          const dataTable =\n",
              "            await google.colab.kernel.invokeFunction('convertToInteractive',\n",
              "                                                     [key], {});\n",
              "          if (!dataTable) return;\n",
              "\n",
              "          const docLinkHtml = 'Like what you see? Visit the ' +\n",
              "            '<a target=\"_blank\" href=https://colab.research.google.com/notebooks/data_table.ipynb>data table notebook</a>'\n",
              "            + ' to learn more about interactive tables.';\n",
              "          element.innerHTML = '';\n",
              "          dataTable['output_type'] = 'display_data';\n",
              "          await google.colab.output.renderOutput(dataTable, element);\n",
              "          const docLink = document.createElement('div');\n",
              "          docLink.innerHTML = docLinkHtml;\n",
              "          element.appendChild(docLink);\n",
              "        }\n",
              "      </script>\n",
              "    </div>\n",
              "  </div>\n",
              "  "
            ]
          },
          "metadata": {},
          "execution_count": 10
        }
      ]
    },
    {
      "cell_type": "code",
      "source": [
        "cols_to_drop = [\n",
        "    'SK_ID_PREV_x',\n",
        "    'NAME_CASH_LOAN_PURPOSE_x',\n",
        "    'NAME_CONTRACT_STATUS_x',\n",
        "    'DAYS_DECISION_x',\n",
        "    'NAME_PAYMENT_TYPE_x',\n",
        "    'CODE_REJECT_REASON_x',\n",
        "    'NAME_CLIENT_TYPE_x',\n",
        "    'NAME_GOODS_CATEGORY_x',\n",
        "    'NAME_PORTFOLIO_x',\n",
        "    'NAME_PRODUCT_TYPE_x',\n",
        "    'CHANNEL_TYPE_x',\n",
        "    'SELLERPLACE_AREA_x',\n",
        "    'NAME_SELLER_INDUSTRY_x',      \n",
        "    'CNT_PAYMENT_x',                \n",
        "    'NAME_YIELD_GROUP_x',         \n",
        "    'PRODUCT_COMBINATION_x',        \n",
        "    'SK_ID_PREV_y',                \n",
        "    'NAME_CASH_LOAN_PURPOSE_y',   \n",
        "    'NAME_CONTRACT_STATUS_y',      \n",
        "    'DAYS_DECISION_y',             \n",
        "    'NAME_PAYMENT_TYPE_y',        \n",
        "    'CODE_REJECT_REASON_y',     \n",
        "    'NAME_CLIENT_TYPE_y',         \n",
        "    'NAME_GOODS_CATEGORY_y',       \n",
        "    'NAME_PORTFOLIO_y',            \n",
        "    'NAME_PRODUCT_TYPE_y',          \n",
        "    'CHANNEL_TYPE_y',            \n",
        "    'SELLERPLACE_AREA_y',        \n",
        "    'NAME_SELLER_INDUSTRY_y',     \n",
        "    'CNT_PAYMENT_y',              \n",
        "    'NAME_YIELD_GROUP_y',        \n",
        "    'PRODUCT_COMBINATION_y',\n",
        "    'SK_ID_PREV',\n",
        "    'NAME_CONTRACT_TYPE',\n",
        "    'NAME_TYPE_SUITE',\n",
        "    'NAME_HOUSING_TYPE',\n",
        "    'CODE_REJECT_REASON',\n",
        "    'OCCUPATION_TYPE', \n",
        "    'Credit_Range',\n",
        "    'Income_Range',\n",
        "]\n",
        "\n",
        "df.drop(columns=cols_to_drop, inplace=True)"
      ],
      "metadata": {
        "id": "hHLm0VoXLSXz"
      },
      "id": "hHLm0VoXLSXz",
      "execution_count": 11,
      "outputs": []
    },
    {
      "cell_type": "code",
      "source": [
        "cols_to_drop = [\n",
        "    'AMT_APPLICATION_y',\n",
        "    'AMT_APPLICATION_x',\n",
        "    'WEEKDAY_APPR_PROCESS_START',\n",
        "    'ORGANIZATION_TYPE',\n",
        "    'PRODUCT_COMBINATION',\n",
        "    'NAME_PRODUCT_TYPE',\n",
        "    'CHANNEL_TYPE',\n",
        "    'NAME_GOODS_CATEGORY',\n",
        "    'NAME_SELLER_INDUSTRY',\n",
        "    'DAYS_DECISION',\n",
        "    'AMT_REQ_CREDIT_BUREAU_HOUR',\n",
        "    'AMT_REQ_CREDIT_BUREAU_DAY',\n",
        "    'AMT_REQ_CREDIT_BUREAU_WEEK',\n",
        "    'AMT_REQ_CREDIT_BUREAU_MON',\n",
        "    'AMT_REQ_CREDIT_BUREAU_QRT',\n",
        "    'AMT_REQ_CREDIT_BUREAU_YEAR',\n",
        "    'HOUR_APPR_PROCESS_START',\n",
        "    'WEEKDAY_APPR_PROCESS_START',\n",
        "    'WEEKDAY_APPR_PROCESS_START',\n",
        "    'SELLERPLACE_AREA',\n",
        "    'DEF_30_CNT_SOCIAL_CIRCLE'\n",
        "]\n",
        "\n",
        "df.drop(columns=cols_to_drop, inplace=True)"
      ],
      "metadata": {
        "id": "LcIvvBq8sTTs"
      },
      "id": "LcIvvBq8sTTs",
      "execution_count": 12,
      "outputs": []
    },
    {
      "cell_type": "code",
      "source": [
        "\n",
        "df['NAME_EDUCATION_TYPE'] = df['NAME_EDUCATION_TYPE'].str.replace('Secondary / secondary special', 'secondary special')\n",
        "df['NAME_CASH_LOAN_PURPOSE'] = df['NAME_CASH_LOAN_PURPOSE'].str.replace('Wedding / gift / holiday', 'Wedding', regex=False)\n",
        "df['NAME_CASH_LOAN_PURPOSE'] = df['NAME_CASH_LOAN_PURPOSE'].str.replace('Buying a holiday home / land', 'Buying a holiday home', regex=False)\n",
        "df['NAME_YIELD_GROUP'] = df['NAME_YIELD_GROUP'].str.replace('low_normal', 'low normal', regex=False)\n",
        "df['NAME_YIELD_GROUP'] = df['NAME_YIELD_GROUP'].str.replace('low_action', 'low action', regex=False)\n",
        "df['NAME_CASH_LOAN_PURPOSE'] = df['NAME_CASH_LOAN_PURPOSE'].str.replace('gasification / water supply', 'gasification', regex=False)\n",
        "df['NAME_PAYMENT_TYPE'] = df['NAME_PAYMENT_TYPE'].str.replace('non-cash from your account', 'non cash from your account', regex=False)\n",
        "df['NAME_FAMILY_STATUS'] = df['NAME_FAMILY_STATUS'].str.replace('single / not married', 'single', regex=False)\n",
        "\n",
        "for col in df.select_dtypes(include='object').columns.tolist():\n",
        "    df[col] = df[col].str.lower()"
      ],
      "metadata": {
        "id": "FsElefcIYPuH"
      },
      "id": "FsElefcIYPuH",
      "execution_count": 13,
      "outputs": []
    },
    {
      "cell_type": "code",
      "source": [
        "df['CNT_PAYMENT'].fillna(df['CNT_PAYMENT'].mean(), inplace=True)\n",
        "df['NAME_PORTFOLIO'].fillna(df['NAME_PORTFOLIO'].mode(), inplace=True)\n",
        "df['NAME_YIELD_GROUP'].fillna(df['NAME_YIELD_GROUP'].mode(), inplace=True)\n",
        "df['OBS_30_CNT_SOCIAL_CIRCLE'].fillna(0, inplace=True)\n",
        "\n",
        "cols_to_drop = ['NAME_PAYMENT_TYPE', \n",
        "                'NAME_CONTRACT_STATUS', 'NAME_CASH_LOAN_PURPOSE']\n",
        "\n",
        "df.dropna(subset=cols_to_drop, inplace=True)"
      ],
      "metadata": {
        "id": "_vycciODR0E9"
      },
      "id": "_vycciODR0E9",
      "execution_count": 14,
      "outputs": []
    },
    {
      "cell_type": "code",
      "source": [
        "categorical_cols = [col for col in df.select_dtypes(include='object').columns.tolist()]\n",
        "onehot = pd.get_dummies(df[categorical_cols], drop_first=True)\n",
        "numerical_cols = [col for col in df.columns.tolist() if col not in categorical_cols + ['TARGET']]"
      ],
      "metadata": {
        "id": "Gw0M6dGfwcRN"
      },
      "id": "Gw0M6dGfwcRN",
      "execution_count": 15,
      "outputs": []
    },
    {
      "cell_type": "code",
      "source": [
        "from sklearn.preprocessing import StandardScaler\n",
        "\n",
        "ss = StandardScaler()\n",
        "std = pd.DataFrame(ss.fit_transform(df[numerical_cols]), columns=numerical_cols)\n",
        "\n",
        "data_model = pd.concat([onehot, std, df[['TARGET']]], axis=1)\n",
        "data_model.dropna(inplace=True)"
      ],
      "metadata": {
        "id": "lbpAS8WV33mP"
      },
      "id": "lbpAS8WV33mP",
      "execution_count": 16,
      "outputs": []
    },
    {
      "cell_type": "code",
      "source": [
        "from sklearn.ensemble import RandomForestClassifier\n",
        "from sklearn.linear_model import LogisticRegression\n",
        "from sklearn.model_selection import RandomizedSearchCV\n",
        "from sklearn.model_selection import train_test_split\n",
        "\n",
        "X = data_model.drop('TARGET', axis=1)\n",
        "y = data_model['TARGET']\n",
        "\n",
        "X_train, X_test, y_train, y_test = train_test_split(X, y, test_size=0.2, random_state=42)"
      ],
      "metadata": {
        "id": "Q1v8Uz824HlL"
      },
      "id": "Q1v8Uz824HlL",
      "execution_count": 17,
      "outputs": []
    },
    {
      "cell_type": "markdown",
      "source": [
        "Logreg"
      ],
      "metadata": {
        "id": "HkRW4xcsPmxp"
      },
      "id": "HkRW4xcsPmxp"
    },
    {
      "cell_type": "code",
      "source": [
        "logreg = LogisticRegression()\n",
        "c_space = np.logspace(-3, 3, 5)\n",
        "param_grid = {'C': c_space}\n",
        "\n",
        "logreg_cv = RandomizedSearchCV(logreg, param_grid, cv=3)\n",
        "logreg_cv.fit(X_train, y_train)"
      ],
      "metadata": {
        "colab": {
          "base_uri": "https://localhost:8080/"
        },
        "id": "0WANfw9-PluD",
        "outputId": "d791d96f-116f-4315-d834-2c985a28f593"
      },
      "id": "0WANfw9-PluD",
      "execution_count": null,
      "outputs": [
        {
          "output_type": "stream",
          "name": "stderr",
          "text": [
            "/usr/local/lib/python3.7/dist-packages/sklearn/model_selection/_search.py:296: UserWarning: The total space of parameters 5 is smaller than n_iter=10. Running 5 iterations. For exhaustive searches, use GridSearchCV.\n",
            "  UserWarning,\n",
            "/usr/local/lib/python3.7/dist-packages/sklearn/linear_model/_logistic.py:818: ConvergenceWarning: lbfgs failed to converge (status=1):\n",
            "STOP: TOTAL NO. of ITERATIONS REACHED LIMIT.\n",
            "\n",
            "Increase the number of iterations (max_iter) or scale the data as shown in:\n",
            "    https://scikit-learn.org/stable/modules/preprocessing.html\n",
            "Please also refer to the documentation for alternative solver options:\n",
            "    https://scikit-learn.org/stable/modules/linear_model.html#logistic-regression\n",
            "  extra_warning_msg=_LOGISTIC_SOLVER_CONVERGENCE_MSG,\n",
            "/usr/local/lib/python3.7/dist-packages/sklearn/linear_model/_logistic.py:818: ConvergenceWarning: lbfgs failed to converge (status=1):\n",
            "STOP: TOTAL NO. of ITERATIONS REACHED LIMIT.\n",
            "\n",
            "Increase the number of iterations (max_iter) or scale the data as shown in:\n",
            "    https://scikit-learn.org/stable/modules/preprocessing.html\n",
            "Please also refer to the documentation for alternative solver options:\n",
            "    https://scikit-learn.org/stable/modules/linear_model.html#logistic-regression\n",
            "  extra_warning_msg=_LOGISTIC_SOLVER_CONVERGENCE_MSG,\n",
            "/usr/local/lib/python3.7/dist-packages/sklearn/linear_model/_logistic.py:818: ConvergenceWarning: lbfgs failed to converge (status=1):\n",
            "STOP: TOTAL NO. of ITERATIONS REACHED LIMIT.\n",
            "\n",
            "Increase the number of iterations (max_iter) or scale the data as shown in:\n",
            "    https://scikit-learn.org/stable/modules/preprocessing.html\n",
            "Please also refer to the documentation for alternative solver options:\n",
            "    https://scikit-learn.org/stable/modules/linear_model.html#logistic-regression\n",
            "  extra_warning_msg=_LOGISTIC_SOLVER_CONVERGENCE_MSG,\n",
            "/usr/local/lib/python3.7/dist-packages/sklearn/linear_model/_logistic.py:818: ConvergenceWarning: lbfgs failed to converge (status=1):\n",
            "STOP: TOTAL NO. of ITERATIONS REACHED LIMIT.\n",
            "\n",
            "Increase the number of iterations (max_iter) or scale the data as shown in:\n",
            "    https://scikit-learn.org/stable/modules/preprocessing.html\n",
            "Please also refer to the documentation for alternative solver options:\n",
            "    https://scikit-learn.org/stable/modules/linear_model.html#logistic-regression\n",
            "  extra_warning_msg=_LOGISTIC_SOLVER_CONVERGENCE_MSG,\n",
            "/usr/local/lib/python3.7/dist-packages/sklearn/linear_model/_logistic.py:818: ConvergenceWarning: lbfgs failed to converge (status=1):\n",
            "STOP: TOTAL NO. of ITERATIONS REACHED LIMIT.\n",
            "\n",
            "Increase the number of iterations (max_iter) or scale the data as shown in:\n",
            "    https://scikit-learn.org/stable/modules/preprocessing.html\n",
            "Please also refer to the documentation for alternative solver options:\n",
            "    https://scikit-learn.org/stable/modules/linear_model.html#logistic-regression\n",
            "  extra_warning_msg=_LOGISTIC_SOLVER_CONVERGENCE_MSG,\n",
            "/usr/local/lib/python3.7/dist-packages/sklearn/linear_model/_logistic.py:818: ConvergenceWarning: lbfgs failed to converge (status=1):\n",
            "STOP: TOTAL NO. of ITERATIONS REACHED LIMIT.\n",
            "\n",
            "Increase the number of iterations (max_iter) or scale the data as shown in:\n",
            "    https://scikit-learn.org/stable/modules/preprocessing.html\n",
            "Please also refer to the documentation for alternative solver options:\n",
            "    https://scikit-learn.org/stable/modules/linear_model.html#logistic-regression\n",
            "  extra_warning_msg=_LOGISTIC_SOLVER_CONVERGENCE_MSG,\n",
            "/usr/local/lib/python3.7/dist-packages/sklearn/linear_model/_logistic.py:818: ConvergenceWarning: lbfgs failed to converge (status=1):\n",
            "STOP: TOTAL NO. of ITERATIONS REACHED LIMIT.\n",
            "\n",
            "Increase the number of iterations (max_iter) or scale the data as shown in:\n",
            "    https://scikit-learn.org/stable/modules/preprocessing.html\n",
            "Please also refer to the documentation for alternative solver options:\n",
            "    https://scikit-learn.org/stable/modules/linear_model.html#logistic-regression\n",
            "  extra_warning_msg=_LOGISTIC_SOLVER_CONVERGENCE_MSG,\n",
            "/usr/local/lib/python3.7/dist-packages/sklearn/linear_model/_logistic.py:818: ConvergenceWarning: lbfgs failed to converge (status=1):\n",
            "STOP: TOTAL NO. of ITERATIONS REACHED LIMIT.\n",
            "\n",
            "Increase the number of iterations (max_iter) or scale the data as shown in:\n",
            "    https://scikit-learn.org/stable/modules/preprocessing.html\n",
            "Please also refer to the documentation for alternative solver options:\n",
            "    https://scikit-learn.org/stable/modules/linear_model.html#logistic-regression\n",
            "  extra_warning_msg=_LOGISTIC_SOLVER_CONVERGENCE_MSG,\n",
            "/usr/local/lib/python3.7/dist-packages/sklearn/linear_model/_logistic.py:818: ConvergenceWarning: lbfgs failed to converge (status=1):\n",
            "STOP: TOTAL NO. of ITERATIONS REACHED LIMIT.\n",
            "\n",
            "Increase the number of iterations (max_iter) or scale the data as shown in:\n",
            "    https://scikit-learn.org/stable/modules/preprocessing.html\n",
            "Please also refer to the documentation for alternative solver options:\n",
            "    https://scikit-learn.org/stable/modules/linear_model.html#logistic-regression\n",
            "  extra_warning_msg=_LOGISTIC_SOLVER_CONVERGENCE_MSG,\n",
            "/usr/local/lib/python3.7/dist-packages/sklearn/linear_model/_logistic.py:818: ConvergenceWarning: lbfgs failed to converge (status=1):\n",
            "STOP: TOTAL NO. of ITERATIONS REACHED LIMIT.\n",
            "\n",
            "Increase the number of iterations (max_iter) or scale the data as shown in:\n",
            "    https://scikit-learn.org/stable/modules/preprocessing.html\n",
            "Please also refer to the documentation for alternative solver options:\n",
            "    https://scikit-learn.org/stable/modules/linear_model.html#logistic-regression\n",
            "  extra_warning_msg=_LOGISTIC_SOLVER_CONVERGENCE_MSG,\n",
            "/usr/local/lib/python3.7/dist-packages/sklearn/linear_model/_logistic.py:818: ConvergenceWarning: lbfgs failed to converge (status=1):\n",
            "STOP: TOTAL NO. of ITERATIONS REACHED LIMIT.\n",
            "\n",
            "Increase the number of iterations (max_iter) or scale the data as shown in:\n",
            "    https://scikit-learn.org/stable/modules/preprocessing.html\n",
            "Please also refer to the documentation for alternative solver options:\n",
            "    https://scikit-learn.org/stable/modules/linear_model.html#logistic-regression\n",
            "  extra_warning_msg=_LOGISTIC_SOLVER_CONVERGENCE_MSG,\n",
            "/usr/local/lib/python3.7/dist-packages/sklearn/linear_model/_logistic.py:818: ConvergenceWarning: lbfgs failed to converge (status=1):\n",
            "STOP: TOTAL NO. of ITERATIONS REACHED LIMIT.\n",
            "\n",
            "Increase the number of iterations (max_iter) or scale the data as shown in:\n",
            "    https://scikit-learn.org/stable/modules/preprocessing.html\n",
            "Please also refer to the documentation for alternative solver options:\n",
            "    https://scikit-learn.org/stable/modules/linear_model.html#logistic-regression\n",
            "  extra_warning_msg=_LOGISTIC_SOLVER_CONVERGENCE_MSG,\n",
            "/usr/local/lib/python3.7/dist-packages/sklearn/linear_model/_logistic.py:818: ConvergenceWarning: lbfgs failed to converge (status=1):\n",
            "STOP: TOTAL NO. of ITERATIONS REACHED LIMIT.\n",
            "\n",
            "Increase the number of iterations (max_iter) or scale the data as shown in:\n",
            "    https://scikit-learn.org/stable/modules/preprocessing.html\n",
            "Please also refer to the documentation for alternative solver options:\n",
            "    https://scikit-learn.org/stable/modules/linear_model.html#logistic-regression\n",
            "  extra_warning_msg=_LOGISTIC_SOLVER_CONVERGENCE_MSG,\n"
          ]
        },
        {
          "output_type": "execute_result",
          "data": {
            "text/plain": [
              "RandomizedSearchCV(cv=3, estimator=LogisticRegression(),\n",
              "                   param_distributions={'C': array([1.00000000e-03, 3.16227766e-02, 1.00000000e+00, 3.16227766e+01,\n",
              "       1.00000000e+03])})"
            ]
          },
          "metadata": {},
          "execution_count": 18
        }
      ]
    },
    {
      "cell_type": "code",
      "source": [
        "y_pred_proba = logreg_cv.predict_proba(X_test)[:][:,1]\n",
        "\n",
        "df_actual_predicted = pd.concat([pd.DataFrame(np.array(y_test), columns=['y_actual']), pd.DataFrame(y_pred_proba, columns=['y_pred_proba'])], axis=1)\n",
        "df_actual_predicted.index = y_test.index"
      ],
      "metadata": {
        "id": "yDh21Ro6RQWU"
      },
      "id": "yDh21Ro6RQWU",
      "execution_count": null,
      "outputs": []
    },
    {
      "cell_type": "code",
      "source": [
        "from sklearn.metrics import roc_curve, roc_auc_score\n",
        "\n",
        "fpr, tpr, tr = roc_curve(df_actual_predicted['y_actual'], df_actual_predicted['y_pred_proba'])\n",
        "auc = roc_auc_score(df_actual_predicted['y_actual'], df_actual_predicted['y_pred_proba'])\n",
        "\n",
        "plt.plot(fpr, tpr, label='AUC = %0.4f' %auc)\n",
        "plt.plot(fpr, fpr, linestyle = '--', color='k')\n",
        "plt.xlabel('False Positive Rate')\n",
        "plt.ylabel('True Positive Rate')\n",
        "plt.title('ROC Curve')\n",
        "plt.legend()"
      ],
      "metadata": {
        "colab": {
          "base_uri": "https://localhost:8080/",
          "height": 312
        },
        "id": "OOrEUEMXRVul",
        "outputId": "d7ebd80d-07cf-4ec4-d176-fe055b642a5e"
      },
      "id": "OOrEUEMXRVul",
      "execution_count": null,
      "outputs": [
        {
          "output_type": "execute_result",
          "data": {
            "text/plain": [
              "<matplotlib.legend.Legend at 0x7fdd94e5dc50>"
            ]
          },
          "metadata": {},
          "execution_count": 20
        },
        {
          "output_type": "display_data",
          "data": {
            "text/plain": [
              "<Figure size 432x288 with 1 Axes>"
            ],
            "image/png": "[encoded data removed]"
          },
          "metadata": {
            "needs_background": "light"
          }
        }
      ]
    },
    {
      "cell_type": "code",
      "source": [
        "df_actual_predicted = df_actual_predicted.sort_values('y_pred_proba')\n",
        "df_actual_predicted = df_actual_predicted.reset_index()\n",
        "\n",
        "df_actual_predicted['Cumulative N Population'] = df_actual_predicted.index + 1\n",
        "df_actual_predicted['Cumulative N Bad'] = df_actual_predicted['y_actual'].cumsum()\n",
        "df_actual_predicted['Cumulative N Good'] = df_actual_predicted['Cumulative N Population'] - df_actual_predicted['Cumulative N Bad']\n",
        "df_actual_predicted['Cumulative Perc Population'] = df_actual_predicted['Cumulative N Population'] / df_actual_predicted.shape[0]\n",
        "df_actual_predicted['Cumulative Perc Bad'] = df_actual_predicted['Cumulative N Bad'] / df_actual_predicted['y_actual'].sum()\n",
        "df_actual_predicted['Cumulative Perc Good'] = df_actual_predicted['Cumulative N Good'] / (df_actual_predicted.shape[0] - df_actual_predicted['y_actual'].sum())"
      ],
      "metadata": {
        "id": "EsKjxCbla8Gf"
      },
      "id": "EsKjxCbla8Gf",
      "execution_count": null,
      "outputs": []
    },
    {
      "cell_type": "code",
      "source": [
        "KS = max(df_actual_predicted['Cumulative Perc Good'] - df_actual_predicted['Cumulative Perc Bad'])\n",
        "\n",
        "plt.plot(df_actual_predicted['y_pred_proba'], df_actual_predicted['Cumulative Perc Bad'], color='r')\n",
        "plt.plot(df_actual_predicted['y_pred_proba'], df_actual_predicted['Cumulative Perc Good'], color='b')\n",
        "plt.xlabel('Estimated Probability for Being Bad')\n",
        "plt.ylabel('Cumulative %')\n",
        "plt.title('Kolmogorov-Smirnov:  %0.4f' %KS)"
      ],
      "metadata": {
        "colab": {
          "base_uri": "https://localhost:8080/",
          "height": 312
        },
        "id": "MmQDU_lza_og",
        "outputId": "c0e987f4-7306-4487-f172-94199c7a905c"
      },
      "id": "MmQDU_lza_og",
      "execution_count": null,
      "outputs": [
        {
          "output_type": "execute_result",
          "data": {
            "text/plain": [
              "Text(0.5, 1.0, 'Kolmogorov-Smirnov:  0.1819')"
            ]
          },
          "metadata": {},
          "execution_count": 22
        },
        {
          "output_type": "display_data",
          "data": {
            "text/plain": [
              "<Figure size 432x288 with 1 Axes>"
            ],
            "image/png": "[encoded data removed]"
          },
          "metadata": {
            "needs_background": "light"
          }
        }
      ]
    },
    {
      "cell_type": "markdown",
      "source": [
        "Random Forest"
      ],
      "metadata": {
        "id": "VonnXRMrr-ye"
      },
      "id": "VonnXRMrr-ye"
    },
    {
      "cell_type": "code",
      "source": [
        "# Number of trees in random forest\n",
        "n_estimators = [int(x) for x in np.linspace(start = 200, stop = 500, num = 10)]\n",
        "# Number of features to consider at every split\n",
        "max_features = ['auto', 'sqrt']\n",
        "# Maximum number of levels in tree\n",
        "max_depth = [int(x) for x in np.linspace(10, 110, num = 11)]\n",
        "max_depth.append(None)\n",
        "# Minimum number of samples required to split a node\n",
        "min_samples_split = [2, 5, 10]\n",
        "# Minimum number of samples required at each leaf node\n",
        "min_samples_leaf = [1, 2, 4]\n",
        "# Method of selecting samples for training each tree\n",
        "bootstrap = [True, False]\n",
        "# Create the random grid\n",
        "random_grid = {'max_features': max_features,\n",
        "               'max_depth': max_depth,\n",
        "               'min_samples_split': min_samples_split,\n",
        "               'min_samples_leaf': min_samples_leaf,\n",
        "               'bootstrap': bootstrap}"
      ],
      "metadata": {
        "id": "I7y2dRvfJDNk"
      },
      "id": "I7y2dRvfJDNk",
      "execution_count": 18,
      "outputs": []
    },
    {
      "cell_type": "code",
      "source": [
        "from sklearn.ensemble import RandomForestClassifier\n",
        "\n",
        "rf = RandomForestClassifier()\n",
        "# Random search of parameters, using 3 fold cross validation, \n",
        "# search across 100 different combinations, and use all available cores q\n",
        "# rf_random = RandomizedSearchCV(estimator = rf, param_distributions = random_grid, n_iter = 20, cv = 3, verbose=2, random_state=42, n_jobs = -1)\n",
        "# Fit the random search model\n",
        "rf.fit(X_train, y_train)"
      ],
      "metadata": {
        "id": "zhjotdeSJ9Qk",
        "colab": {
          "base_uri": "https://localhost:8080/"
        },
        "outputId": "4278b90e-6c2a-4d22-e664-0e08aa480435"
      },
      "id": "zhjotdeSJ9Qk",
      "execution_count": 18,
      "outputs": [
        {
          "output_type": "execute_result",
          "data": {
            "text/plain": [
              "RandomForestClassifier()"
            ]
          },
          "metadata": {},
          "execution_count": 18
        }
      ]
    },
    {
      "cell_type": "code",
      "source": [
        "y_pred_proba = rf.predict_proba(X_test)[:][:,1]\n",
        "\n",
        "df_actual_predicted = pd.concat([pd.DataFrame(np.array(y_test), columns=['y_actual']), pd.DataFrame(y_pred_proba, columns=['y_pred_proba'])], axis=1)\n",
        "df_actual_predicted.index = y_test.index"
      ],
      "metadata": {
        "id": "oMoxpsMt5NGC"
      },
      "id": "oMoxpsMt5NGC",
      "execution_count": 19,
      "outputs": []
    },
    {
      "cell_type": "code",
      "source": [
        "from sklearn.metrics import roc_curve, roc_auc_score\n",
        "\n",
        "fpr, tpr, tr = roc_curve(df_actual_predicted['y_actual'], df_actual_predicted['y_pred_proba'])\n",
        "auc = roc_auc_score(df_actual_predicted['y_actual'], df_actual_predicted['y_pred_proba'])\n",
        "\n",
        "plt.plot(fpr, tpr, label='AUC = %0.4f' %auc)\n",
        "plt.plot(fpr, fpr, linestyle = '--', color='k')\n",
        "plt.xlabel('False Positive Rate')\n",
        "plt.ylabel('True Positive Rate')\n",
        "plt.title('ROC Curve')\n",
        "plt.legend()"
      ],
      "metadata": {
        "id": "cw4kix5v4foy",
        "colab": {
          "base_uri": "https://localhost:8080/",
          "height": 312
        },
        "outputId": "9fc95edd-8ecb-4e87-c4bd-a4dadb870cf5"
      },
      "id": "cw4kix5v4foy",
      "execution_count": 20,
      "outputs": [
        {
          "output_type": "execute_result",
          "data": {
            "text/plain": [
              "<matplotlib.legend.Legend at 0x7f96f94f2450>"
            ]
          },
          "metadata": {},
          "execution_count": 20
        },
        {
          "output_type": "display_data",
          "data": {
            "text/plain": [
              "<Figure size 432x288 with 1 Axes>"
            ],
            "image/png": "[encoded data removed]"
          },
          "metadata": {
            "needs_background": "light"
          }
        }
      ]
    },
    {
      "cell_type": "code",
      "source": [
        "df_actual_predicted = df_actual_predicted.sort_values('y_pred_proba')\n",
        "df_actual_predicted = df_actual_predicted.reset_index()\n",
        "\n",
        "df_actual_predicted['Cumulative N Population'] = df_actual_predicted.index + 1\n",
        "df_actual_predicted['Cumulative N Bad'] = df_actual_predicted['y_actual'].cumsum()\n",
        "df_actual_predicted['Cumulative N Good'] = df_actual_predicted['Cumulative N Population'] - df_actual_predicted['Cumulative N Bad']\n",
        "df_actual_predicted['Cumulative Perc Population'] = df_actual_predicted['Cumulative N Population'] / df_actual_predicted.shape[0]\n",
        "df_actual_predicted['Cumulative Perc Bad'] = df_actual_predicted['Cumulative N Bad'] / df_actual_predicted['y_actual'].sum()\n",
        "df_actual_predicted['Cumulative Perc Good'] = df_actual_predicted['Cumulative N Good'] / (df_actual_predicted.shape[0] - df_actual_predicted['y_actual'].sum())"
      ],
      "metadata": {
        "id": "x1VA_XrYBVZk"
      },
      "id": "x1VA_XrYBVZk",
      "execution_count": 21,
      "outputs": []
    },
    {
      "cell_type": "code",
      "source": [
        "KS = max(df_actual_predicted['Cumulative Perc Good'] - df_actual_predicted['Cumulative Perc Bad'])\n",
        "\n",
        "plt.plot(df_actual_predicted['y_pred_proba'], df_actual_predicted['Cumulative Perc Bad'], color='r')\n",
        "plt.plot(df_actual_predicted['y_pred_proba'], df_actual_predicted['Cumulative Perc Good'], color='b')\n",
        "plt.xlabel('Estimated Probability for Being Bad')\n",
        "plt.ylabel('Cumulative %')\n",
        "plt.title('Kolmogorov-Smirnov:  %0.4f' %KS)"
      ],
      "metadata": {
        "colab": {
          "base_uri": "https://localhost:8080/",
          "height": 312
        },
        "id": "jfqtC6xBhtLX",
        "outputId": "e787773a-b3ac-41d9-f4d0-228a4891582d"
      },
      "id": "jfqtC6xBhtLX",
      "execution_count": 22,
      "outputs": [
        {
          "output_type": "execute_result",
          "data": {
            "text/plain": [
              "Text(0.5, 1.0, 'Kolmogorov-Smirnov:  0.3492')"
            ]
          },
          "metadata": {},
          "execution_count": 22
        },
        {
          "output_type": "display_data",
          "data": {
            "text/plain": [
              "<Figure size 432x288 with 1 Axes>"
            ],
            "image/png": "[encoded data removed]"
          },
          "metadata": {
            "needs_background": "light"
          }
        }
      ]
    },
    {
      "cell_type": "markdown",
      "source": [
        "XGBOost"
      ],
      "metadata": {
        "id": "7HJDu8oprtfK"
      },
      "id": "7HJDu8oprtfK"
    },
    {
      "cell_type": "code",
      "source": [
        "import xgboost as xgb"
      ],
      "metadata": {
        "id": "MPaz8dmUhvPu"
      },
      "id": "MPaz8dmUhvPu",
      "execution_count": null,
      "outputs": []
    },
    {
      "cell_type": "code",
      "source": [
        "parameters_xgb = {\n",
        "    'learning_rate': (0.1,0.01,0.05,0.5,0.3,1),\n",
        "    'n_estimators': (100,200),\n",
        "    'max_depth':(5,10,20),}\n",
        "xg_clf = xgb.XGBClassifier()\n",
        "# xgb_clf_gv = RandomizedSearchCV(xg_clf,parameters_xgb,cv=3)  # using cross validation with best hyperparameters\n",
        "xgb_clf_op = xg_clf.fit(X_train,y_train)"
      ],
      "metadata": {
        "id": "7tR-kci4rsRY"
      },
      "id": "7tR-kci4rsRY",
      "execution_count": null,
      "outputs": []
    },
    {
      "cell_type": "code",
      "source": [
        "y_pred_proba = xgb_clf_op.predict_proba(X_test)[:][:,1]\n",
        "\n",
        "df_actual_predicted = pd.concat([pd.DataFrame(np.array(y_test), columns=['y_actual']), pd.DataFrame(y_pred_proba, columns=['y_pred_proba'])], axis=1)\n",
        "df_actual_predicted.index = y_test.index"
      ],
      "metadata": {
        "id": "H9tnm_DFr3YA"
      },
      "id": "H9tnm_DFr3YA",
      "execution_count": null,
      "outputs": []
    },
    {
      "cell_type": "code",
      "source": [
        "from sklearn.metrics import roc_curve, roc_auc_score\n",
        "\n",
        "fpr, tpr, tr = roc_curve(df_actual_predicted['y_actual'], df_actual_predicted['y_pred_proba'])\n",
        "auc = roc_auc_score(df_actual_predicted['y_actual'], df_actual_predicted['y_pred_proba'])\n",
        "\n",
        "plt.plot(fpr, tpr, label='AUC = %0.4f' %auc)\n",
        "plt.plot(fpr, fpr, linestyle = '--', color='k')\n",
        "plt.xlabel('False Positive Rate')\n",
        "plt.ylabel('True Positive Rate')\n",
        "plt.title('ROC Curve')\n",
        "plt.legend()"
      ],
      "metadata": {
        "id": "zeOEpytIsESA",
        "colab": {
          "base_uri": "https://localhost:8080/",
          "height": 312
        },
        "outputId": "e9c0bc0b-23d6-4de7-abfb-793edd253ad2"
      },
      "id": "zeOEpytIsESA",
      "execution_count": null,
      "outputs": [
        {
          "output_type": "execute_result",
          "data": {
            "text/plain": [
              "<matplotlib.legend.Legend at 0x7f27104cd910>"
            ]
          },
          "metadata": {},
          "execution_count": 21
        },
        {
          "output_type": "display_data",
          "data": {
            "text/plain": [
              "<Figure size 432x288 with 1 Axes>"
            ],
            "image/png": "[encoded data removed]"
          },
          "metadata": {
            "needs_background": "light"
          }
        }
      ]
    },
    {
      "cell_type": "code",
      "source": [
        "df_actual_predicted = df_actual_predicted.sort_values('y_pred_proba')\n",
        "df_actual_predicted = df_actual_predicted.reset_index()\n",
        "\n",
        "df_actual_predicted['Cumulative N Population'] = df_actual_predicted.index + 1\n",
        "df_actual_predicted['Cumulative N Bad'] = df_actual_predicted['y_actual'].cumsum()\n",
        "df_actual_predicted['Cumulative N Good'] = df_actual_predicted['Cumulative N Population'] - df_actual_predicted['Cumulative N Bad']\n",
        "df_actual_predicted['Cumulative Perc Population'] = df_actual_predicted['Cumulative N Population'] / df_actual_predicted.shape[0]\n",
        "df_actual_predicted['Cumulative Perc Bad'] = df_actual_predicted['Cumulative N Bad'] / df_actual_predicted['y_actual'].sum()\n",
        "df_actual_predicted['Cumulative Perc Good'] = df_actual_predicted['Cumulative N Good'] / (df_actual_predicted.shape[0] - df_actual_predicted['y_actual'].sum())"
      ],
      "metadata": {
        "id": "GRTU2Ae2sFeh"
      },
      "id": "GRTU2Ae2sFeh",
      "execution_count": null,
      "outputs": []
    },
    {
      "cell_type": "code",
      "source": [
        "KS = max(df_actual_predicted['Cumulative Perc Good'] - df_actual_predicted['Cumulative Perc Bad'])\n",
        "\n",
        "plt.plot(df_actual_predicted['y_pred_proba'], df_actual_predicted['Cumulative Perc Bad'], color='r')\n",
        "plt.plot(df_actual_predicted['y_pred_proba'], df_actual_predicted['Cumulative Perc Good'], color='b')\n",
        "plt.xlabel('Estimated Probability for Being Bad')\n",
        "plt.ylabel('Cumulative %')\n",
        "plt.title('Kolmogorov-Smirnov:  %0.4f' %KS)"
      ],
      "metadata": {
        "colab": {
          "base_uri": "https://localhost:8080/",
          "height": 312
        },
        "id": "5IHRqJzLdHoP",
        "outputId": "a63c5ac5-aead-4b96-f907-d8a5c4d2ff8a"
      },
      "id": "5IHRqJzLdHoP",
      "execution_count": null,
      "outputs": [
        {
          "output_type": "execute_result",
          "data": {
            "text/plain": [
              "Text(0.5, 1.0, 'Kolmogorov-Smirnov:  0.1864')"
            ]
          },
          "metadata": {},
          "execution_count": 23
        },
        {
          "output_type": "display_data",
          "data": {
            "text/plain": [
              "<Figure size 432x288 with 1 Axes>"
            ],
            "image/png": "[encoded data removed]"
          },
          "metadata": {
            "needs_background": "light"
          }
        }
      ]
    },
    {
      "cell_type": "code",
      "source": [],
      "metadata": {
        "id": "IIT4-4h7eJkx"
      },
      "id": "IIT4-4h7eJkx",
      "execution_count": null,
      "outputs": []
    }
  ],
  "metadata": {
    "colab": {
      "collapsed_sections": [],
      "name": "Final Project(Model).ipynb",
      "provenance": []
    },
    "kernelspec": {
      "display_name": "Python [conda env:MiniConda-jcopml]",
      "language": "python",
      "name": "conda-env-MiniConda-jcopml-py"
    },
    "language_info": {
      "codemirror_mode": {
        "name": "ipython",
        "version": 3
      },
      "file_extension": ".py",
      "mimetype": "text/x-python",
      "name": "python",
      "nbconvert_exporter": "python",
      "pygments_lexer": "ipython3",
      "version": "3.7.6"
    },
    "varInspector": {
      "cols": {
        "lenName": 16,
        "lenType": 16,
        "lenVar": 40
      },
      "kernels_config": {
        "python": {
          "delete_cmd_postfix": "",
          "delete_cmd_prefix": "del ",
          "library": "var_list.py",
          "varRefreshCmd": "print(var_dic_list())"
        },
        "r": {
          "delete_cmd_postfix": ") ",
          "delete_cmd_prefix": "rm(",
          "library": "var_list.r",
          "varRefreshCmd": "cat(var_dic_list()) "
        }
      },
      "types_to_exclude": [
        "module",
        "function",
        "builtin_function_or_method",
        "instance",
        "_Feature"
      ],
      "window_display": false
    }
  },
  "nbformat": 4,
  "nbformat_minor": 5
}